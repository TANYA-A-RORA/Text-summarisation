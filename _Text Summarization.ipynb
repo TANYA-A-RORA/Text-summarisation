{
 "cells": [
  {
   "cell_type": "code",
   "execution_count": 1,
   "metadata": {},
   "outputs": [],
   "source": [
    "import math\n",
    "from nltk import sent_tokenize, word_tokenize, PorterStemmer\n",
    "from nltk.corpus import stopwords"
   ]
  },
  {
   "cell_type": "code",
   "execution_count": 2,
   "metadata": {},
   "outputs": [],
   "source": [
    "def _create_frequency_matrix(sentences):\n",
    "    frequency_matrix = {}\n",
    "    stopWords = set(stopwords.words(\"english\"))\n",
    "    ps = PorterStemmer()\n",
    "\n",
    "    for sent in sentences:\n",
    "        freq_table = {}\n",
    "        words = word_tokenize(sent)\n",
    "        for word in words:\n",
    "            word = word.lower()\n",
    "            word = ps.stem(word)\n",
    "            if word in stopWords:\n",
    "                continue\n",
    "\n",
    "            if word in freq_table:\n",
    "                freq_table[word] += 1\n",
    "            else:\n",
    "                freq_table[word] = 1\n",
    "\n",
    "        frequency_matrix[sent[:15]] = freq_table\n",
    "\n",
    "    return frequency_matrix\n",
    "\n",
    "def _create_tf_matrix(freq_matrix):\n",
    "    tf_matrix = {}\n",
    "\n",
    "    for sent, f_table in freq_matrix.items():\n",
    "        tf_table = {}\n",
    "\n",
    "        count_words_in_sentence = len(f_table)\n",
    "        for word, count in f_table.items():\n",
    "            tf_table[word] = count / count_words_in_sentence\n",
    "\n",
    "        tf_matrix[sent] = tf_table\n",
    "\n",
    "    return tf_matrix\n",
    "\n",
    "def _create_documents_per_words(freq_matrix):\n",
    "    word_per_doc_table = {}\n",
    "\n",
    "    for sent, f_table in freq_matrix.items():\n",
    "        for word, count in f_table.items():\n",
    "            if word in word_per_doc_table:\n",
    "                word_per_doc_table[word] += 1\n",
    "            else:\n",
    "                word_per_doc_table[word] = 1\n",
    "\n",
    "    return word_per_doc_table\n",
    "\n",
    "def _create_idf_matrix(freq_matrix, count_doc_per_words, total_documents):\n",
    "    idf_matrix = {}\n",
    "\n",
    "    for sent, f_table in freq_matrix.items():\n",
    "        idf_table = {}\n",
    "\n",
    "        for word in f_table.keys():\n",
    "            idf_table[word] = math.log10(total_documents / float(count_doc_per_words[word]))\n",
    "\n",
    "        idf_matrix[sent] = idf_table\n",
    "\n",
    "    return idf_matrix\n",
    "\n",
    "def _create_tf_idf_matrix(tf_matrix, idf_matrix):\n",
    "    tf_idf_matrix = {}\n",
    "\n",
    "    for (sent1, f_table1), (sent2, f_table2) in zip(tf_matrix.items(), idf_matrix.items()):\n",
    "\n",
    "        tf_idf_table = {}\n",
    "\n",
    "        for (word1, value1), (word2, value2) in zip(f_table1.items(),\n",
    "                                                    f_table2.items()):  # here, keys are the same in both the table\n",
    "            tf_idf_table[word1] = float(value1 * value2)\n",
    "\n",
    "        tf_idf_matrix[sent1] = tf_idf_table\n",
    "\n",
    "    return tf_idf_matrix\n",
    "\n",
    "def _score_sentences(tf_idf_matrix) -> dict:\n",
    "    sentenceValue = {}\n",
    "\n",
    "    for sent, f_table in tf_idf_matrix.items():\n",
    "        total_score_per_sentence = 0\n",
    "\n",
    "        count_words_in_sentence = len(f_table)\n",
    "        for word, score in f_table.items():\n",
    "            total_score_per_sentence += score\n",
    "\n",
    "        sentenceValue[sent] = total_score_per_sentence / count_words_in_sentence\n",
    "\n",
    "    return sentenceValue\n",
    "\n",
    "def _find_average_score(sentenceValue) -> int:\n",
    "    sumValues = 0\n",
    "    for entry in sentenceValue:\n",
    "        sumValues += sentenceValue[entry]\n",
    "\n",
    "    # Average value of a sentence from original summary_text\n",
    "    average = (sumValues / len(sentenceValue))\n",
    "\n",
    "    return average\n",
    "\n",
    "def _generate_summary(sentences, sentenceValue, threshold):\n",
    "    sentence_count = 0\n",
    "    summary = ''\n",
    "\n",
    "    for sentence in sentences:\n",
    "        if sentence[:15] in sentenceValue and sentenceValue[sentence[:15]] >= (threshold):\n",
    "            summary += \" \" + sentence\n",
    "            sentence_count += 1\n",
    "\n",
    "    return summary"
   ]
  },
  {
   "cell_type": "code",
   "execution_count": 3,
   "metadata": {},
   "outputs": [],
   "source": [
    "filename=\"001.txt\"\n",
    "f = open((filename), \"r\")\n",
    "text=f.read()\n",
    "f.close()"
   ]
  },
  {
   "cell_type": "code",
   "execution_count": 4,
   "metadata": {},
   "outputs": [
    {
     "data": {
      "text/plain": [
       "'Success from two leading coronavirus vaccine programs likely means other frontrunners will also show strong protection against COVID-19, Bill Gates said Tuesday.\\n\\nThe fact that two coronavirus vaccines recently showed strong protection against COVID-19 bodes well for other leading programs led by AstraZeneca, Novavax, and Johnson & Johnson, Bill Gates said Tuesday.The billionaire Microsoft founder and philanthropist said it will be easier to boost manufacturing and distribute these other shots to the entire world, particularly developing nations.The vaccine space has seen a flurry of good news in recent days, marked by overwhelming success in late-stage trials by both Pfizer and Moderna. The studies showed both vaccines provided strong protection against the virus compared to a placebo. \"With the very good news from Pfizer and Moderna, we think it\\'s now likely that AstraZeneca, Novavax, and Johnson & Johnson will also likely show very strong efficacy,\" Gates told journalist Andrew Ross Sorkin. \\nWhile Gates didn\\'t delve into the scientific rationale behind that prediction, many scientists hold the same hope. All the leading vaccine candidates target the same part of the coronavirus in the spike protein. Early-stage clinical trials showed all the shots elicited varying levels of neutralizing antibodies, virus-fighting proteins that play a critical role in the body\\'s immune response. But the only way to know if that translates to protection is by running late-stage trials that enroll tens of thousands for volunteers who receive either the experimental shot or placebo injections. The scientific success has turned the top challenges surrounding a COVID-19 vaccine to the manufacturing and distribution front. Gates noted that the world will be supply constrained for 2021, but these additional vaccines will prove valuable on that front.'"
      ]
     },
     "execution_count": 4,
     "metadata": {},
     "output_type": "execute_result"
    }
   ],
   "source": [
    "text"
   ]
  },
  {
   "cell_type": "markdown",
   "metadata": {},
   "source": [
    "# 1 Sentence Tokenize"
   ]
  },
  {
   "cell_type": "code",
   "execution_count": 5,
   "metadata": {},
   "outputs": [],
   "source": [
    "sentences = sent_tokenize(text)\n",
    "total_documents = len(sentences)"
   ]
  },
  {
   "cell_type": "markdown",
   "metadata": {},
   "source": [
    "# 2 Create the Frequency matrix of the words in each sentence."
   ]
  },
  {
   "cell_type": "code",
   "execution_count": 6,
   "metadata": {},
   "outputs": [
    {
     "name": "stdout",
     "output_type": "stream",
     "text": [
      "{'Success from tw': {'success': 1, 'two': 1, 'lead': 1, 'coronaviru': 1, 'vaccin': 1, 'program': 1, 'like': 1, 'mean': 1, 'frontrunn': 1, 'also': 1, 'show': 1, 'strong': 1, 'protect': 1, 'covid-19': 1, ',': 1, 'bill': 1, 'gate': 1, 'said': 1, 'tuesday': 1, '.': 1}, 'The fact that t': {'fact': 1, 'two': 1, 'coronaviru': 1, 'vaccin': 2, 'recent': 2, 'show': 1, 'strong': 1, 'protect': 1, 'covid-19': 1, 'bode': 1, 'well': 1, 'lead': 1, 'program': 1, 'led': 1, 'astrazeneca': 1, ',': 5, 'novavax': 1, 'johnson': 2, '&': 1, 'bill': 1, 'gate': 1, 'said': 2, 'tuesday.th': 1, 'billionair': 1, 'microsoft': 1, 'founder': 1, 'philanthropist': 1, 'easier': 1, 'boost': 1, 'manufactur': 1, 'distribut': 1, 'shot': 1, 'entir': 1, 'world': 1, 'particularli': 1, 'develop': 1, 'nations.th': 1, 'space': 1, 'ha': 1, 'seen': 1, 'flurri': 1, 'good': 1, 'news': 1, 'day': 1, 'mark': 1, 'overwhelm': 1, 'success': 1, 'late-stag': 1, 'trial': 1, 'pfizer': 1, 'moderna': 1, '.': 1}, 'The studies sho': {'studi': 1, 'show': 1, 'vaccin': 1, 'provid': 1, 'strong': 1, 'protect': 1, 'viru': 1, 'compar': 1, 'placebo': 1, '.': 1}, '\"With the very ': {'``': 1, 'veri': 2, 'good': 1, 'news': 1, 'pfizer': 1, 'moderna': 1, ',': 4, 'think': 1, \"'s\": 1, 'like': 2, 'astrazeneca': 1, 'novavax': 1, 'johnson': 2, '&': 1, 'also': 1, 'show': 1, 'strong': 1, 'efficaci': 1, \"''\": 1, 'gate': 1, 'told': 1, 'journalist': 1, 'andrew': 1, 'ross': 1, 'sorkin': 1, '.': 1}, 'While Gates did': {'gate': 1, \"n't\": 1, 'delv': 1, 'scientif': 1, 'rational': 1, 'behind': 1, 'predict': 1, ',': 1, 'mani': 1, 'scientist': 1, 'hold': 1, 'hope': 1, '.': 1}, 'All the leading': {'lead': 1, 'vaccin': 1, 'candid': 1, 'target': 1, 'part': 1, 'coronaviru': 1, 'spike': 1, 'protein': 1, '.': 1}, 'Early-stage cli': {'early-stag': 1, 'clinic': 1, 'trial': 1, 'show': 1, 'shot': 1, 'elicit': 1, 'vari': 1, 'level': 1, 'neutral': 1, 'antibodi': 1, ',': 1, 'virus-fight': 1, 'protein': 1, 'play': 1, 'critic': 1, 'role': 1, 'bodi': 1, \"'s\": 1, 'immun': 1, 'respons': 1, '.': 1}, 'But the only wa': {'onli': 1, 'way': 1, 'know': 1, 'translat': 1, 'protect': 1, 'run': 1, 'late-stag': 1, 'trial': 1, 'enrol': 1, 'ten': 1, 'thousand': 1, 'volunt': 1, 'receiv': 1, 'either': 1, 'experiment': 1, 'shot': 1, 'placebo': 1, 'inject': 1, '.': 1}, 'The scientific ': {'scientif': 1, 'success': 1, 'ha': 1, 'turn': 1, 'top': 1, 'challeng': 1, 'surround': 1, 'covid-19': 1, 'vaccin': 1, 'manufactur': 1, 'distribut': 1, 'front': 1, '.': 1}, 'Gates noted tha': {'gate': 1, 'note': 1, 'world': 1, 'suppli': 1, 'constrain': 1, '2021': 1, ',': 1, 'addit': 1, 'vaccin': 1, 'prove': 1, 'valuabl': 1, 'front': 1, '.': 1}}\n"
     ]
    }
   ],
   "source": [
    "freq_matrix = _create_frequency_matrix(sentences)\n",
    "print(freq_matrix)"
   ]
  },
  {
   "cell_type": "markdown",
   "metadata": {},
   "source": [
    "# 3 Calculate TermFrequency and generate a matrix"
   ]
  },
  {
   "cell_type": "code",
   "execution_count": 7,
   "metadata": {},
   "outputs": [
    {
     "name": "stdout",
     "output_type": "stream",
     "text": [
      "{'Success from tw': {'success': 0.05, 'two': 0.05, 'lead': 0.05, 'coronaviru': 0.05, 'vaccin': 0.05, 'program': 0.05, 'like': 0.05, 'mean': 0.05, 'frontrunn': 0.05, 'also': 0.05, 'show': 0.05, 'strong': 0.05, 'protect': 0.05, 'covid-19': 0.05, ',': 0.05, 'bill': 0.05, 'gate': 0.05, 'said': 0.05, 'tuesday': 0.05, '.': 0.05}, 'The fact that t': {'fact': 0.019230769230769232, 'two': 0.019230769230769232, 'coronaviru': 0.019230769230769232, 'vaccin': 0.038461538461538464, 'recent': 0.038461538461538464, 'show': 0.019230769230769232, 'strong': 0.019230769230769232, 'protect': 0.019230769230769232, 'covid-19': 0.019230769230769232, 'bode': 0.019230769230769232, 'well': 0.019230769230769232, 'lead': 0.019230769230769232, 'program': 0.019230769230769232, 'led': 0.019230769230769232, 'astrazeneca': 0.019230769230769232, ',': 0.09615384615384616, 'novavax': 0.019230769230769232, 'johnson': 0.038461538461538464, '&': 0.019230769230769232, 'bill': 0.019230769230769232, 'gate': 0.019230769230769232, 'said': 0.038461538461538464, 'tuesday.th': 0.019230769230769232, 'billionair': 0.019230769230769232, 'microsoft': 0.019230769230769232, 'founder': 0.019230769230769232, 'philanthropist': 0.019230769230769232, 'easier': 0.019230769230769232, 'boost': 0.019230769230769232, 'manufactur': 0.019230769230769232, 'distribut': 0.019230769230769232, 'shot': 0.019230769230769232, 'entir': 0.019230769230769232, 'world': 0.019230769230769232, 'particularli': 0.019230769230769232, 'develop': 0.019230769230769232, 'nations.th': 0.019230769230769232, 'space': 0.019230769230769232, 'ha': 0.019230769230769232, 'seen': 0.019230769230769232, 'flurri': 0.019230769230769232, 'good': 0.019230769230769232, 'news': 0.019230769230769232, 'day': 0.019230769230769232, 'mark': 0.019230769230769232, 'overwhelm': 0.019230769230769232, 'success': 0.019230769230769232, 'late-stag': 0.019230769230769232, 'trial': 0.019230769230769232, 'pfizer': 0.019230769230769232, 'moderna': 0.019230769230769232, '.': 0.019230769230769232}, 'The studies sho': {'studi': 0.1, 'show': 0.1, 'vaccin': 0.1, 'provid': 0.1, 'strong': 0.1, 'protect': 0.1, 'viru': 0.1, 'compar': 0.1, 'placebo': 0.1, '.': 0.1}, '\"With the very ': {'``': 0.038461538461538464, 'veri': 0.07692307692307693, 'good': 0.038461538461538464, 'news': 0.038461538461538464, 'pfizer': 0.038461538461538464, 'moderna': 0.038461538461538464, ',': 0.15384615384615385, 'think': 0.038461538461538464, \"'s\": 0.038461538461538464, 'like': 0.07692307692307693, 'astrazeneca': 0.038461538461538464, 'novavax': 0.038461538461538464, 'johnson': 0.07692307692307693, '&': 0.038461538461538464, 'also': 0.038461538461538464, 'show': 0.038461538461538464, 'strong': 0.038461538461538464, 'efficaci': 0.038461538461538464, \"''\": 0.038461538461538464, 'gate': 0.038461538461538464, 'told': 0.038461538461538464, 'journalist': 0.038461538461538464, 'andrew': 0.038461538461538464, 'ross': 0.038461538461538464, 'sorkin': 0.038461538461538464, '.': 0.038461538461538464}, 'While Gates did': {'gate': 0.07692307692307693, \"n't\": 0.07692307692307693, 'delv': 0.07692307692307693, 'scientif': 0.07692307692307693, 'rational': 0.07692307692307693, 'behind': 0.07692307692307693, 'predict': 0.07692307692307693, ',': 0.07692307692307693, 'mani': 0.07692307692307693, 'scientist': 0.07692307692307693, 'hold': 0.07692307692307693, 'hope': 0.07692307692307693, '.': 0.07692307692307693}, 'All the leading': {'lead': 0.1111111111111111, 'vaccin': 0.1111111111111111, 'candid': 0.1111111111111111, 'target': 0.1111111111111111, 'part': 0.1111111111111111, 'coronaviru': 0.1111111111111111, 'spike': 0.1111111111111111, 'protein': 0.1111111111111111, '.': 0.1111111111111111}, 'Early-stage cli': {'early-stag': 0.047619047619047616, 'clinic': 0.047619047619047616, 'trial': 0.047619047619047616, 'show': 0.047619047619047616, 'shot': 0.047619047619047616, 'elicit': 0.047619047619047616, 'vari': 0.047619047619047616, 'level': 0.047619047619047616, 'neutral': 0.047619047619047616, 'antibodi': 0.047619047619047616, ',': 0.047619047619047616, 'virus-fight': 0.047619047619047616, 'protein': 0.047619047619047616, 'play': 0.047619047619047616, 'critic': 0.047619047619047616, 'role': 0.047619047619047616, 'bodi': 0.047619047619047616, \"'s\": 0.047619047619047616, 'immun': 0.047619047619047616, 'respons': 0.047619047619047616, '.': 0.047619047619047616}, 'But the only wa': {'onli': 0.05263157894736842, 'way': 0.05263157894736842, 'know': 0.05263157894736842, 'translat': 0.05263157894736842, 'protect': 0.05263157894736842, 'run': 0.05263157894736842, 'late-stag': 0.05263157894736842, 'trial': 0.05263157894736842, 'enrol': 0.05263157894736842, 'ten': 0.05263157894736842, 'thousand': 0.05263157894736842, 'volunt': 0.05263157894736842, 'receiv': 0.05263157894736842, 'either': 0.05263157894736842, 'experiment': 0.05263157894736842, 'shot': 0.05263157894736842, 'placebo': 0.05263157894736842, 'inject': 0.05263157894736842, '.': 0.05263157894736842}, 'The scientific ': {'scientif': 0.07692307692307693, 'success': 0.07692307692307693, 'ha': 0.07692307692307693, 'turn': 0.07692307692307693, 'top': 0.07692307692307693, 'challeng': 0.07692307692307693, 'surround': 0.07692307692307693, 'covid-19': 0.07692307692307693, 'vaccin': 0.07692307692307693, 'manufactur': 0.07692307692307693, 'distribut': 0.07692307692307693, 'front': 0.07692307692307693, '.': 0.07692307692307693}, 'Gates noted tha': {'gate': 0.07692307692307693, 'note': 0.07692307692307693, 'world': 0.07692307692307693, 'suppli': 0.07692307692307693, 'constrain': 0.07692307692307693, '2021': 0.07692307692307693, ',': 0.07692307692307693, 'addit': 0.07692307692307693, 'vaccin': 0.07692307692307693, 'prove': 0.07692307692307693, 'valuabl': 0.07692307692307693, 'front': 0.07692307692307693, '.': 0.07692307692307693}}\n"
     ]
    }
   ],
   "source": [
    "tf_matrix = _create_tf_matrix(freq_matrix)\n",
    "print(tf_matrix)"
   ]
  },
  {
   "cell_type": "markdown",
   "metadata": {},
   "source": [
    "# 4 Creating table for documents per words"
   ]
  },
  {
   "cell_type": "code",
   "execution_count": 8,
   "metadata": {},
   "outputs": [
    {
     "name": "stdout",
     "output_type": "stream",
     "text": [
      "{'success': 3, 'two': 2, 'lead': 3, 'coronaviru': 3, 'vaccin': 6, 'program': 2, 'like': 2, 'mean': 1, 'frontrunn': 1, 'also': 2, 'show': 5, 'strong': 4, 'protect': 4, 'covid-19': 3, ',': 6, 'bill': 2, 'gate': 5, 'said': 2, 'tuesday': 1, '.': 10, 'fact': 1, 'recent': 1, 'bode': 1, 'well': 1, 'led': 1, 'astrazeneca': 2, 'novavax': 2, 'johnson': 2, '&': 2, 'tuesday.th': 1, 'billionair': 1, 'microsoft': 1, 'founder': 1, 'philanthropist': 1, 'easier': 1, 'boost': 1, 'manufactur': 2, 'distribut': 2, 'shot': 3, 'entir': 1, 'world': 2, 'particularli': 1, 'develop': 1, 'nations.th': 1, 'space': 1, 'ha': 2, 'seen': 1, 'flurri': 1, 'good': 2, 'news': 2, 'day': 1, 'mark': 1, 'overwhelm': 1, 'late-stag': 2, 'trial': 3, 'pfizer': 2, 'moderna': 2, 'studi': 1, 'provid': 1, 'viru': 1, 'compar': 1, 'placebo': 2, '``': 1, 'veri': 1, 'think': 1, \"'s\": 2, 'efficaci': 1, \"''\": 1, 'told': 1, 'journalist': 1, 'andrew': 1, 'ross': 1, 'sorkin': 1, \"n't\": 1, 'delv': 1, 'scientif': 2, 'rational': 1, 'behind': 1, 'predict': 1, 'mani': 1, 'scientist': 1, 'hold': 1, 'hope': 1, 'candid': 1, 'target': 1, 'part': 1, 'spike': 1, 'protein': 2, 'early-stag': 1, 'clinic': 1, 'elicit': 1, 'vari': 1, 'level': 1, 'neutral': 1, 'antibodi': 1, 'virus-fight': 1, 'play': 1, 'critic': 1, 'role': 1, 'bodi': 1, 'immun': 1, 'respons': 1, 'onli': 1, 'way': 1, 'know': 1, 'translat': 1, 'run': 1, 'enrol': 1, 'ten': 1, 'thousand': 1, 'volunt': 1, 'receiv': 1, 'either': 1, 'experiment': 1, 'inject': 1, 'turn': 1, 'top': 1, 'challeng': 1, 'surround': 1, 'front': 2, 'note': 1, 'suppli': 1, 'constrain': 1, '2021': 1, 'addit': 1, 'prove': 1, 'valuabl': 1}\n"
     ]
    }
   ],
   "source": [
    "count_doc_per_words = _create_documents_per_words(freq_matrix)\n",
    "print(count_doc_per_words)"
   ]
  },
  {
   "cell_type": "markdown",
   "metadata": {},
   "source": [
    "# 5 Calculate IDF and generate a matrix"
   ]
  },
  {
   "cell_type": "code",
   "execution_count": 9,
   "metadata": {},
   "outputs": [
    {
     "name": "stdout",
     "output_type": "stream",
     "text": [
      "{'Success from tw': {'success': 0.5228787452803376, 'two': 0.6989700043360189, 'lead': 0.5228787452803376, 'coronaviru': 0.5228787452803376, 'vaccin': 0.2218487496163564, 'program': 0.6989700043360189, 'like': 0.6989700043360189, 'mean': 1.0, 'frontrunn': 1.0, 'also': 0.6989700043360189, 'show': 0.3010299956639812, 'strong': 0.3979400086720376, 'protect': 0.3979400086720376, 'covid-19': 0.5228787452803376, ',': 0.2218487496163564, 'bill': 0.6989700043360189, 'gate': 0.3010299956639812, 'said': 0.6989700043360189, 'tuesday': 1.0, '.': 0.0}, 'The fact that t': {'fact': 1.0, 'two': 0.6989700043360189, 'coronaviru': 0.5228787452803376, 'vaccin': 0.2218487496163564, 'recent': 1.0, 'show': 0.3010299956639812, 'strong': 0.3979400086720376, 'protect': 0.3979400086720376, 'covid-19': 0.5228787452803376, 'bode': 1.0, 'well': 1.0, 'lead': 0.5228787452803376, 'program': 0.6989700043360189, 'led': 1.0, 'astrazeneca': 0.6989700043360189, ',': 0.2218487496163564, 'novavax': 0.6989700043360189, 'johnson': 0.6989700043360189, '&': 0.6989700043360189, 'bill': 0.6989700043360189, 'gate': 0.3010299956639812, 'said': 0.6989700043360189, 'tuesday.th': 1.0, 'billionair': 1.0, 'microsoft': 1.0, 'founder': 1.0, 'philanthropist': 1.0, 'easier': 1.0, 'boost': 1.0, 'manufactur': 0.6989700043360189, 'distribut': 0.6989700043360189, 'shot': 0.5228787452803376, 'entir': 1.0, 'world': 0.6989700043360189, 'particularli': 1.0, 'develop': 1.0, 'nations.th': 1.0, 'space': 1.0, 'ha': 0.6989700043360189, 'seen': 1.0, 'flurri': 1.0, 'good': 0.6989700043360189, 'news': 0.6989700043360189, 'day': 1.0, 'mark': 1.0, 'overwhelm': 1.0, 'success': 0.5228787452803376, 'late-stag': 0.6989700043360189, 'trial': 0.5228787452803376, 'pfizer': 0.6989700043360189, 'moderna': 0.6989700043360189, '.': 0.0}, 'The studies sho': {'studi': 1.0, 'show': 0.3010299956639812, 'vaccin': 0.2218487496163564, 'provid': 1.0, 'strong': 0.3979400086720376, 'protect': 0.3979400086720376, 'viru': 1.0, 'compar': 1.0, 'placebo': 0.6989700043360189, '.': 0.0}, '\"With the very ': {'``': 1.0, 'veri': 1.0, 'good': 0.6989700043360189, 'news': 0.6989700043360189, 'pfizer': 0.6989700043360189, 'moderna': 0.6989700043360189, ',': 0.2218487496163564, 'think': 1.0, \"'s\": 0.6989700043360189, 'like': 0.6989700043360189, 'astrazeneca': 0.6989700043360189, 'novavax': 0.6989700043360189, 'johnson': 0.6989700043360189, '&': 0.6989700043360189, 'also': 0.6989700043360189, 'show': 0.3010299956639812, 'strong': 0.3979400086720376, 'efficaci': 1.0, \"''\": 1.0, 'gate': 0.3010299956639812, 'told': 1.0, 'journalist': 1.0, 'andrew': 1.0, 'ross': 1.0, 'sorkin': 1.0, '.': 0.0}, 'While Gates did': {'gate': 0.3010299956639812, \"n't\": 1.0, 'delv': 1.0, 'scientif': 0.6989700043360189, 'rational': 1.0, 'behind': 1.0, 'predict': 1.0, ',': 0.2218487496163564, 'mani': 1.0, 'scientist': 1.0, 'hold': 1.0, 'hope': 1.0, '.': 0.0}, 'All the leading': {'lead': 0.5228787452803376, 'vaccin': 0.2218487496163564, 'candid': 1.0, 'target': 1.0, 'part': 1.0, 'coronaviru': 0.5228787452803376, 'spike': 1.0, 'protein': 0.6989700043360189, '.': 0.0}, 'Early-stage cli': {'early-stag': 1.0, 'clinic': 1.0, 'trial': 0.5228787452803376, 'show': 0.3010299956639812, 'shot': 0.5228787452803376, 'elicit': 1.0, 'vari': 1.0, 'level': 1.0, 'neutral': 1.0, 'antibodi': 1.0, ',': 0.2218487496163564, 'virus-fight': 1.0, 'protein': 0.6989700043360189, 'play': 1.0, 'critic': 1.0, 'role': 1.0, 'bodi': 1.0, \"'s\": 0.6989700043360189, 'immun': 1.0, 'respons': 1.0, '.': 0.0}, 'But the only wa': {'onli': 1.0, 'way': 1.0, 'know': 1.0, 'translat': 1.0, 'protect': 0.3979400086720376, 'run': 1.0, 'late-stag': 0.6989700043360189, 'trial': 0.5228787452803376, 'enrol': 1.0, 'ten': 1.0, 'thousand': 1.0, 'volunt': 1.0, 'receiv': 1.0, 'either': 1.0, 'experiment': 1.0, 'shot': 0.5228787452803376, 'placebo': 0.6989700043360189, 'inject': 1.0, '.': 0.0}, 'The scientific ': {'scientif': 0.6989700043360189, 'success': 0.5228787452803376, 'ha': 0.6989700043360189, 'turn': 1.0, 'top': 1.0, 'challeng': 1.0, 'surround': 1.0, 'covid-19': 0.5228787452803376, 'vaccin': 0.2218487496163564, 'manufactur': 0.6989700043360189, 'distribut': 0.6989700043360189, 'front': 0.6989700043360189, '.': 0.0}, 'Gates noted tha': {'gate': 0.3010299956639812, 'note': 1.0, 'world': 0.6989700043360189, 'suppli': 1.0, 'constrain': 1.0, '2021': 1.0, ',': 0.2218487496163564, 'addit': 1.0, 'vaccin': 0.2218487496163564, 'prove': 1.0, 'valuabl': 1.0, 'front': 0.6989700043360189, '.': 0.0}}\n"
     ]
    }
   ],
   "source": [
    "idf_matrix = _create_idf_matrix(freq_matrix, count_doc_per_words, total_documents)\n",
    "print(idf_matrix)"
   ]
  },
  {
   "cell_type": "markdown",
   "metadata": {},
   "source": [
    "# 6 Calculate TF-IDF and generate a matrix"
   ]
  },
  {
   "cell_type": "code",
   "execution_count": 10,
   "metadata": {},
   "outputs": [
    {
     "name": "stdout",
     "output_type": "stream",
     "text": [
      "{'Success from tw': {'success': 0.026143937264016884, 'two': 0.034948500216800946, 'lead': 0.026143937264016884, 'coronaviru': 0.026143937264016884, 'vaccin': 0.01109243748081782, 'program': 0.034948500216800946, 'like': 0.034948500216800946, 'mean': 0.05, 'frontrunn': 0.05, 'also': 0.034948500216800946, 'show': 0.01505149978319906, 'strong': 0.01989700043360188, 'protect': 0.01989700043360188, 'covid-19': 0.026143937264016884, ',': 0.01109243748081782, 'bill': 0.034948500216800946, 'gate': 0.01505149978319906, 'said': 0.034948500216800946, 'tuesday': 0.05, '.': 0.0}, 'The fact that t': {'fact': 0.019230769230769232, 'two': 0.013441730852615748, 'coronaviru': 0.010055360486160339, 'vaccin': 0.008532644216013708, 'recent': 0.038461538461538464, 'show': 0.005789038378153485, 'strong': 0.007652692474462262, 'protect': 0.007652692474462262, 'covid-19': 0.010055360486160339, 'bode': 0.019230769230769232, 'well': 0.019230769230769232, 'lead': 0.010055360486160339, 'program': 0.013441730852615748, 'led': 0.019230769230769232, 'astrazeneca': 0.013441730852615748, ',': 0.021331610540034268, 'novavax': 0.013441730852615748, 'johnson': 0.026883461705231496, '&': 0.013441730852615748, 'bill': 0.013441730852615748, 'gate': 0.005789038378153485, 'said': 0.026883461705231496, 'tuesday.th': 0.019230769230769232, 'billionair': 0.019230769230769232, 'microsoft': 0.019230769230769232, 'founder': 0.019230769230769232, 'philanthropist': 0.019230769230769232, 'easier': 0.019230769230769232, 'boost': 0.019230769230769232, 'manufactur': 0.013441730852615748, 'distribut': 0.013441730852615748, 'shot': 0.010055360486160339, 'entir': 0.019230769230769232, 'world': 0.013441730852615748, 'particularli': 0.019230769230769232, 'develop': 0.019230769230769232, 'nations.th': 0.019230769230769232, 'space': 0.019230769230769232, 'ha': 0.013441730852615748, 'seen': 0.019230769230769232, 'flurri': 0.019230769230769232, 'good': 0.013441730852615748, 'news': 0.013441730852615748, 'day': 0.019230769230769232, 'mark': 0.019230769230769232, 'overwhelm': 0.019230769230769232, 'success': 0.010055360486160339, 'late-stag': 0.013441730852615748, 'trial': 0.010055360486160339, 'pfizer': 0.013441730852615748, 'moderna': 0.013441730852615748, '.': 0.0}, 'The studies sho': {'studi': 0.1, 'show': 0.03010299956639812, 'vaccin': 0.02218487496163564, 'provid': 0.1, 'strong': 0.03979400086720376, 'protect': 0.03979400086720376, 'viru': 0.1, 'compar': 0.1, 'placebo': 0.06989700043360189, '.': 0.0}, '\"With the very ': {'``': 0.038461538461538464, 'veri': 0.07692307692307693, 'good': 0.026883461705231496, 'news': 0.026883461705231496, 'pfizer': 0.026883461705231496, 'moderna': 0.026883461705231496, ',': 0.03413057686405483, 'think': 0.038461538461538464, \"'s\": 0.026883461705231496, 'like': 0.05376692341046299, 'astrazeneca': 0.026883461705231496, 'novavax': 0.026883461705231496, 'johnson': 0.05376692341046299, '&': 0.026883461705231496, 'also': 0.026883461705231496, 'show': 0.01157807675630697, 'strong': 0.015305384948924524, 'efficaci': 0.038461538461538464, \"''\": 0.038461538461538464, 'gate': 0.01157807675630697, 'told': 0.038461538461538464, 'journalist': 0.038461538461538464, 'andrew': 0.038461538461538464, 'ross': 0.038461538461538464, 'sorkin': 0.038461538461538464, '.': 0.0}, 'While Gates did': {'gate': 0.02315615351261394, \"n't\": 0.07692307692307693, 'delv': 0.07692307692307693, 'scientif': 0.05376692341046299, 'rational': 0.07692307692307693, 'behind': 0.07692307692307693, 'predict': 0.07692307692307693, ',': 0.017065288432027415, 'mani': 0.07692307692307693, 'scientist': 0.07692307692307693, 'hold': 0.07692307692307693, 'hope': 0.07692307692307693, '.': 0.0}, 'All the leading': {'lead': 0.05809763836448195, 'vaccin': 0.024649861068484043, 'candid': 0.1111111111111111, 'target': 0.1111111111111111, 'part': 0.1111111111111111, 'coronaviru': 0.05809763836448195, 'spike': 0.1111111111111111, 'protein': 0.0776633338151132, '.': 0.0}, 'Early-stage cli': {'early-stag': 0.047619047619047616, 'clinic': 0.047619047619047616, 'trial': 0.024898987870492266, 'show': 0.014334761698284819, 'shot': 0.024898987870492266, 'elicit': 0.047619047619047616, 'vari': 0.047619047619047616, 'level': 0.047619047619047616, 'neutral': 0.047619047619047616, 'antibodi': 0.047619047619047616, ',': 0.010564226172207447, 'virus-fight': 0.047619047619047616, 'protein': 0.0332842859207628, 'play': 0.047619047619047616, 'critic': 0.047619047619047616, 'role': 0.047619047619047616, 'bodi': 0.047619047619047616, \"'s\": 0.0332842859207628, 'immun': 0.047619047619047616, 'respons': 0.047619047619047616, '.': 0.0}, 'But the only wa': {'onli': 0.05263157894736842, 'way': 0.05263157894736842, 'know': 0.05263157894736842, 'translat': 0.05263157894736842, 'protect': 0.02094421098273882, 'run': 0.05263157894736842, 'late-stag': 0.03678789496505362, 'trial': 0.02751993396212303, 'enrol': 0.05263157894736842, 'ten': 0.05263157894736842, 'thousand': 0.05263157894736842, 'volunt': 0.05263157894736842, 'receiv': 0.05263157894736842, 'either': 0.05263157894736842, 'experiment': 0.05263157894736842, 'shot': 0.02751993396212303, 'placebo': 0.03678789496505362, 'inject': 0.05263157894736842, '.': 0.0}, 'The scientific ': {'scientif': 0.05376692341046299, 'success': 0.040221441944641355, 'ha': 0.05376692341046299, 'turn': 0.07692307692307693, 'top': 0.07692307692307693, 'challeng': 0.07692307692307693, 'surround': 0.07692307692307693, 'covid-19': 0.040221441944641355, 'vaccin': 0.017065288432027415, 'manufactur': 0.05376692341046299, 'distribut': 0.05376692341046299, 'front': 0.05376692341046299, '.': 0.0}, 'Gates noted tha': {'gate': 0.02315615351261394, 'note': 0.07692307692307693, 'world': 0.05376692341046299, 'suppli': 0.07692307692307693, 'constrain': 0.07692307692307693, '2021': 0.07692307692307693, ',': 0.017065288432027415, 'addit': 0.07692307692307693, 'vaccin': 0.017065288432027415, 'prove': 0.07692307692307693, 'valuabl': 0.07692307692307693, 'front': 0.05376692341046299, '.': 0.0}}\n"
     ]
    }
   ],
   "source": [
    "tf_idf_matrix = _create_tf_idf_matrix(tf_matrix, idf_matrix)\n",
    "print(tf_idf_matrix)"
   ]
  },
  {
   "cell_type": "markdown",
   "metadata": {},
   "source": [
    "# 7 Important Algorithm: score the sentences"
   ]
  },
  {
   "cell_type": "code",
   "execution_count": 11,
   "metadata": {},
   "outputs": [
    {
     "name": "stdout",
     "output_type": "stream",
     "text": [
      "{'Success from tw': 0.027817431287605544, 'The fact that t': 0.015668854959339104, 'The studies sho': 0.06017728766960432, '\"With the very ': 0.032505924637327904, 'While Gates did': 0.06048431212790743, 'All the leading': 0.07366143511744506, 'Early-stage cli': 0.03847296200569854, 'But the only wa': 0.04388265237646744, 'The scientific ': 0.05184885362045636, 'Gates noted tha': 0.05409862428147178}\n"
     ]
    }
   ],
   "source": [
    "sentence_scores = _score_sentences(tf_idf_matrix)\n",
    "print(sentence_scores)"
   ]
  },
  {
   "cell_type": "markdown",
   "metadata": {},
   "source": [
    "# 8 Find the threshold"
   ]
  },
  {
   "cell_type": "code",
   "execution_count": 12,
   "metadata": {},
   "outputs": [
    {
     "name": "stdout",
     "output_type": "stream",
     "text": [
      "0.04586183380833235\n"
     ]
    }
   ],
   "source": [
    "threshold = _find_average_score(sentence_scores)\n",
    "print(threshold)"
   ]
  },
  {
   "cell_type": "markdown",
   "metadata": {},
   "source": [
    "# 9 Generate the summary"
   ]
  },
  {
   "cell_type": "code",
   "execution_count": 13,
   "metadata": {},
   "outputs": [
    {
     "name": "stdout",
     "output_type": "stream",
     "text": [
      " The studies showed both vaccines provided strong protection against the virus compared to a placebo. While Gates didn't delve into the scientific rationale behind that prediction, many scientists hold the same hope. All the leading vaccine candidates target the same part of the coronavirus in the spike protein. The scientific success has turned the top challenges surrounding a COVID-19 vaccine to the manufacturing and distribution front. Gates noted that the world will be supply constrained for 2021, but these additional vaccines will prove valuable on that front.\n"
     ]
    }
   ],
   "source": [
    "summary = _generate_summary(sentences, sentence_scores, 1 * threshold)\n",
    "print(summary)"
   ]
  }
 ],
 "metadata": {
  "kernelspec": {
   "display_name": "Python 3",
   "language": "python",
   "name": "python3"
  },
  "language_info": {
   "codemirror_mode": {
    "name": "ipython",
    "version": 3
   },
   "file_extension": ".py",
   "mimetype": "text/x-python",
   "name": "python",
   "nbconvert_exporter": "python",
   "pygments_lexer": "ipython3",
   "version": "3.8.3"
  }
 },
 "nbformat": 4,
 "nbformat_minor": 2
}
